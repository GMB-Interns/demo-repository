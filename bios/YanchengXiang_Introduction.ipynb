{
 "cells": [
  {
   "cell_type": "markdown",
   "id": "75818db1",
   "metadata": {},
   "source": [
    "# Introduction\n",
    "\n",
    "Hi everyone, my name is Yancheng, but I also go by Max. Feel free to use whichever name is easier for you to pronounce. I'm a super easy-going guy with boundless energy for discovering new things. Staying curious and active is the principle I live by. I am passionate about data analytics because I find it fascinating to uncover more facts from a mere collection of numbers. While a sales history may seem dull to some, for me, it's the perfect playground to uncover hidden trends and relationships. I simply enjoy playing around with datasets and exploring them in creative ways.\n",
    "\n",
    "## Education Background\n",
    "\n",
    "I am currently pursuing an MS in Business Analytics at the University of Rochester Simon Business School, and I anticipate graduating this December. Additionally, I hold an MBA degree in Marketing from Stony Brook University, where I also obtained my Bachelor's degree. Despite not having a strong tech background, I am always eager to learn whenever the opportunity arises. I have earned a Data Analyst Associate certificate from DataCamp and have recently completed the Google Data Analytics Professional certificate. My next goal is to obtain an AWS Cloud Practitioner certification in the near future.\n",
    "\n",
    "## Skills\n",
    "\n",
    "Through my studies at Simon, I have become proficient in SQL. I am capable of performing data warehousing tasks and executing various queries as needed. With a solid understanding of SQL concepts, I am also skilled in handling datasets using clusters on platforms such as Databricks or any HDFS. Speaking of clusters, I am familiar with Apache Spark and Hive, enabling me to perform machine learning and sentiment analysis tasks. Python is another tool in my skill set, and it has proven to be the most valuable language I have learned so far. I am well-versed in utilizing Python packages such as Pandas and Numpy. Additionally, I am experienced in Excel and can build simple predictive models using functions like VLOOKUP and other formulas. Tableau, which is relatively easy to learn compared to other skills, is also a valuable tool that I can employ in certain situations.\n",
    "\n",
    "## Project/Professional Experience\n",
    "\n",
    "In terms of my professional experience, I have primarily focused on marketing roles in my previous internships. However, there was one specific experience that influenced my decision to switch career paths. After observing and closely following the decision-making processes of leadership, I realized that data played a crucial role in all aspects. Whether it was determining the direction of marketing campaigns or identifying the most effective distribution channels, data was the foundation for making informed decisions. I recognized that data is omnipresent and constantly impacts the company's operations, which ultimately led me to pursue a different career path.\n",
    "\n",
    "Throughout my time at Simon, I successfully completed various course projects that allowed me to gain practical experience. These projects covered a wide range of topics, from social media analytics to building predictive models. For instance, I constructed a TF-IDF matrix to extract text features and utilized a Word2Vec model on over 500k reviews in the Amazon gaming category to uncover customer preferences. Additionally, I worked on a project focused on credit risk prediction, where I cleaned the data, experimented with multiple models to identify the most accurate one, and developed a user-friendly interface using Streamlit. This interface enabled users to input candidate information and obtain credit risk results.\n",
    "\n",
    "## Why GMB?\n",
    "\n",
    "Having personally struggled with procrastination for over 20 years, I strongly resonate with the core value of GMB, which aims to assist individuals in staying motivated. Just envision an app that connects people who are striving for the same goals. Whether you consider yourself a chronic procrastinator or an ambitious go-getter, the sense of belonging and camaraderie derived from joining a group can be a powerful source of motivation. In this regard, I firmly believe that GMB provides an ideal platform for me to not only refine my existing skills but also learn from other talented team members. By being part of GMB, I anticipate enhancing my abilities and acquiring new skills that will contribute to the success of the team and the app's users.\n",
    "\n",
    "## CHATGPT?\n",
    "\n",
    "Yeah, just being straightforward, I use ChatGPT from the time it released. But I did not rely on it, it is the source of my inspirations. Since ChatGPT cannot actually 'think', I use it as a tool to correct my mistakes and save me more time for more creative approaches.\n",
    "\n",
    "\n"
   ]
  },
  {
   "cell_type": "code",
   "execution_count": null,
   "id": "71fb100a",
   "metadata": {},
   "outputs": [],
   "source": []
  }
 ],
 "metadata": {
  "kernelspec": {
   "display_name": "Python 3 (ipykernel)",
   "language": "python",
   "name": "python3"
  },
  "language_info": {
   "codemirror_mode": {
    "name": "ipython",
    "version": 3
   },
   "file_extension": ".py",
   "mimetype": "text/x-python",
   "name": "python",
   "nbconvert_exporter": "python",
   "pygments_lexer": "ipython3",
   "version": "3.9.16"
  },
  "toc": {
   "base_numbering": 1,
   "nav_menu": {},
   "number_sections": true,
   "sideBar": true,
   "skip_h1_title": false,
   "title_cell": "Table of Contents",
   "title_sidebar": "Contents",
   "toc_cell": false,
   "toc_position": {},
   "toc_section_display": true,
   "toc_window_display": false
  }
 },
 "nbformat": 4,
 "nbformat_minor": 5
}
